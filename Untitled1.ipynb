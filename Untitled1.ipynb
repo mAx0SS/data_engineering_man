{
 "cells": [
  {
   "cell_type": "markdown",
   "id": "da00f0cc-f0ce-4623-8dcf-8f28021c8a44",
   "metadata": {},
   "source": [
    "### вечно молодой"
   ]
  },
  {
   "cell_type": "code",
   "execution_count": 20,
   "id": "91814b9d-1def-4c46-b425-d5169f3acf9d",
   "metadata": {},
   "outputs": [
    {
     "name": "stdout",
     "output_type": "stream",
     "text": [
      "вечно пьяный\n"
     ]
    }
   ],
   "source": [
    "print('вечно пьяный')"
   ]
  }
 ],
 "metadata": {
  "kernelspec": {
   "display_name": "Python 3 (ipykernel)",
   "language": "python",
   "name": "python3"
  },
  "language_info": {
   "codemirror_mode": {
    "name": "ipython",
    "version": 3
   },
   "file_extension": ".py",
   "mimetype": "text/x-python",
   "name": "python",
   "nbconvert_exporter": "python",
   "pygments_lexer": "ipython3",
   "version": "3.12.4"
  }
 },
 "nbformat": 4,
 "nbformat_minor": 5
}
