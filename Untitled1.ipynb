{
 "cells": [
  {
   "cell_type": "code",
   "execution_count": 66,
   "id": "bd59c820-c79b-44f5-bc62-3aaff08a247d",
   "metadata": {},
   "outputs": [],
   "source": [
    "import requests\n",
    "symbols = 'EUR,RUB'\n",
    "start_date = '2023-11-01'\n",
    "end_date = '2023-11-30'\n",
    "base = 'USD'\n",
    "url = f\"https://api.apilayer.com/fixer/timeseries?symbols={symbols}&base={base}&start_date={start_date}&end_date={end_date}\"\n",
    "\n",
    "headers= {\n",
    "  \"apikey\": \"2J4v05Sh8iNuG4HO6zOTyzFM464aJbxI\"\n",
    "}\n",
    "\n",
    "response = requests.request(\"GET\", url, headers=headers)\n",
    "\n",
    "status_code = response.status_code\n",
    "result = response.json()['rates']\n",
    "x = []\n",
    "for i, j in result.items():\n",
    "    for m, n in j.items():\n",
    "        x.append([i, m, n])\n",
    "#print(result, status_code)\n",
    "#print(list(result.keys()))"
   ]
  },
  {
   "cell_type": "code",
   "execution_count": 71,
   "id": "a9d2446c-01f4-4999-a821-b4e0ef99ccd2",
   "metadata": {},
   "outputs": [],
   "source": [
    "import csv\n",
    "kolonki = ['Date', 'Val', 'Chislo']\n",
    "\n",
    "with open('valuta.csv', 'w', encoding='UTF-8', newline='') as file:\n",
    "    wr = csv.writer(file)\n",
    "    wr.writerow(kolonki)\n",
    "    wr.writerows(x)"
   ]
  },
  {
   "cell_type": "code",
   "execution_count": null,
   "id": "352ef025-aa19-4d31-b32b-7f671a9153be",
   "metadata": {},
   "outputs": [],
   "source": []
  }
 ],
 "metadata": {
  "kernelspec": {
   "display_name": "Python 3 (ipykernel)",
   "language": "python",
   "name": "python3"
  },
  "language_info": {
   "codemirror_mode": {
    "name": "ipython",
    "version": 3
   },
   "file_extension": ".py",
   "mimetype": "text/x-python",
   "name": "python",
   "nbconvert_exporter": "python",
   "pygments_lexer": "ipython3",
   "version": "3.12.4"
  }
 },
 "nbformat": 4,
 "nbformat_minor": 5
}
