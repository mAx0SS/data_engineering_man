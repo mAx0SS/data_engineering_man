{
 "cells": [
  {
   "cell_type": "code",
   "execution_count": 16,
   "id": "91e7cd32-3aaf-4344-a9dc-f204988b9da6",
   "metadata": {},
   "outputs": [
    {
     "name": "stdout",
     "output_type": "stream",
     "text": [
      "81\n"
     ]
    }
   ],
   "source": [
    "print(81)"
   ]
  },
  {
   "cell_type": "code",
   "execution_count": 17,
   "id": "be5bddcb-a1e9-47b0-9105-3ad4922f28a0",
   "metadata": {},
   "outputs": [],
   "source": [
    "x = 'vfgvf'"
   ]
  },
  {
   "cell_type": "code",
   "execution_count": 18,
   "id": "c9ad6da4-2787-4107-9a4f-f08eb448b044",
   "metadata": {},
   "outputs": [],
   "source": [
    "def f(y):\n",
    "    return y"
   ]
  },
  {
   "cell_type": "code",
   "execution_count": 19,
   "id": "ed7e1640-d427-488e-800d-b3b9a20d058a",
   "metadata": {},
   "outputs": [
    {
     "name": "stdout",
     "output_type": "stream",
     "text": [
      "5\n"
     ]
    }
   ],
   "source": [
    "print(f(5))"
   ]
  },
  {
   "cell_type": "code",
   "execution_count": null,
   "id": "ebe2cd3b-46ab-4d67-b161-225a62958377",
   "metadata": {},
   "outputs": [],
   "source": []
  },
  {
   "cell_type": "code",
   "execution_count": null,
   "id": "e0901381-50d4-442d-96b8-5dc49ee0d01b",
   "metadata": {},
   "outputs": [],
   "source": []
  }
 ],
 "metadata": {
  "kernelspec": {
   "display_name": "Python 3 (ipykernel)",
   "language": "python",
   "name": "python3"
  },
  "language_info": {
   "codemirror_mode": {
    "name": "ipython",
    "version": 3
   },
   "file_extension": ".py",
   "mimetype": "text/x-python",
   "name": "python",
   "nbconvert_exporter": "python",
   "pygments_lexer": "ipython3",
   "version": "3.12.4"
  }
 },
 "nbformat": 4,
 "nbformat_minor": 5
}
