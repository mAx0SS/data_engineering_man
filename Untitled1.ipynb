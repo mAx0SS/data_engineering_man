{
 "cells": [
  {
   "cell_type": "code",
   "execution_count": 2,
   "id": "91e7cd32-3aaf-4344-a9dc-f204988b9da6",
   "metadata": {},
   "outputs": [
    {
     "name": "stdout",
     "output_type": "stream",
     "text": [
      "8\n"
     ]
    }
   ],
   "source": [
    "print(8)"
   ]
  },
  {
   "cell_type": "raw",
   "id": "ab6594cd-a204-421a-8ead-42455c8a0832",
   "metadata": {},
   "source": [
    "x = str(input())"
   ]
  },
  {
   "cell_type": "code",
   "execution_count": null,
   "id": "c9ad6da4-2787-4107-9a4f-f08eb448b044",
   "metadata": {},
   "outputs": [],
   "source": [
    "print"
   ]
  }
 ],
 "metadata": {
  "kernelspec": {
   "display_name": "Python 3 (ipykernel)",
   "language": "python",
   "name": "python3"
  },
  "language_info": {
   "codemirror_mode": {
    "name": "ipython",
    "version": 3
   },
   "file_extension": ".py",
   "mimetype": "text/x-python",
   "name": "python",
   "nbconvert_exporter": "python",
   "pygments_lexer": "ipython3",
   "version": "3.12.4"
  }
 },
 "nbformat": 4,
 "nbformat_minor": 5
}
